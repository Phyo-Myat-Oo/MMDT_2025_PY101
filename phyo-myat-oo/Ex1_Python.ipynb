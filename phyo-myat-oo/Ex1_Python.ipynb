{
  "cells": [
    {
      "cell_type": "markdown",
      "metadata": {
        "id": "view-in-github",
        "colab_type": "text"
      },
      "source": [
        "<a href=\"https://colab.research.google.com/github/Phyo-Myat-Oo/MMDT_2025_PY101/blob/main/phyo-myat-oo/Ex1_Python.ipynb\" target=\"_parent\"><img src=\"https://colab.research.google.com/assets/colab-badge.svg\" alt=\"Open In Colab\"/></a>"
      ]
    },
    {
      "cell_type": "markdown",
      "metadata": {
        "id": "thgO68_HZ0Aa"
      },
      "source": [
        "# Introduction"
      ]
    },
    {
      "cell_type": "markdown",
      "metadata": {
        "id": "PIh3i0c_Z_yP"
      },
      "source": [
        "This section introduces the Python Programming uisng Colab. Follow the instructions and complete the exercises."
      ]
    },
    {
      "cell_type": "markdown",
      "metadata": {
        "id": "gCw6SfeFZ78l"
      },
      "source": [
        "# Ex 1 : Check Version"
      ]
    },
    {
      "cell_type": "markdown",
      "metadata": {
        "id": "6Vm-27iLabjm"
      },
      "source": [
        "Using the below cell, Import the required library and check the version of the python in your environment."
      ]
    },
    {
      "cell_type": "code",
      "execution_count": 1,
      "metadata": {
        "id": "PJDYHB4AXVdc",
        "colab": {
          "base_uri": "https://localhost:8080/",
          "height": 36
        },
        "outputId": "9cb2f0f8-870a-4b8b-988d-c3923d98fb4a"
      },
      "outputs": [
        {
          "output_type": "execute_result",
          "data": {
            "text/plain": [
              "'3.11.12 (main, Apr  9 2025, 08:55:54) [GCC 11.4.0]'"
            ],
            "application/vnd.google.colaboratory.intrinsic+json": {
              "type": "string"
            }
          },
          "metadata": {},
          "execution_count": 1
        }
      ],
      "source": [
        "import sys\n",
        "sys.version"
      ]
    },
    {
      "cell_type": "markdown",
      "metadata": {
        "id": "5qTEiwGlawf5"
      },
      "source": [
        "# Ex2 : Convert Currency."
      ]
    },
    {
      "cell_type": "markdown",
      "metadata": {
        "id": "XH8K1p0ypVCg"
      },
      "source": [
        "Write a program that asks the user for the amount in usd and converts it to British pounds. The exchange rate is from usd to BP is given as 0.82"
      ]
    },
    {
      "cell_type": "code",
      "execution_count": null,
      "metadata": {
        "id": "x9xQXOnRa0MS"
      },
      "outputs": [],
      "source": [
        "usd_amount = input (\"Enter the amount in USD: \")\n",
        "bp_amount = int(usd_amount) *0.82\n",
        "print(\"{} usd is equivalent to {} british pound\".format(usd_amount, bp_amount))"
      ]
    },
    {
      "cell_type": "markdown",
      "metadata": {
        "id": "ePfECwUIpli4"
      },
      "source": [
        "# Ex 3: Temperature Converter"
      ]
    },
    {
      "cell_type": "markdown",
      "metadata": {
        "id": "Y60hUWDsp3pK"
      },
      "source": [
        "Write a program that convert temperature in Feranhite to celsius."
      ]
    },
    {
      "cell_type": "code",
      "execution_count": 6,
      "metadata": {
        "id": "G9PbO6qPoUfn",
        "colab": {
          "base_uri": "https://localhost:8080/"
        },
        "outputId": "4a0bff7c-8f5c-4f5e-e6cc-c431dbc5d9a1"
      },
      "outputs": [
        {
          "output_type": "stream",
          "name": "stdout",
          "text": [
            "Enter Temperature in Feranhite: 81\n",
            "27.22222222222222\n"
          ]
        }
      ],
      "source": [
        "# fahrenheit to celsius formula\n",
        "# C = (F - 32) * 5/9\n",
        "Farenheit=int(input(\"Enter Temperature in Feranhite: \"))\n",
        "Celsius=(Farenheit-32)*5/9\n",
        "print(Celsius)"
      ]
    },
    {
      "cell_type": "markdown",
      "metadata": {
        "id": "a2kNRO9Vp7Qz"
      },
      "source": [
        "# Ex 4: Daily Maths"
      ]
    },
    {
      "cell_type": "markdown",
      "metadata": {
        "id": "lItKon9qqEUn"
      },
      "source": [
        "You are working in a retail shop. Write a program that computes the total cost for a customer that bought 3 differnt types of fruits : apple, orange, mango. Ask the user to enter the quantity and price for each type."
      ]
    },
    {
      "cell_type": "code",
      "execution_count": 12,
      "metadata": {
        "id": "mIQFjH6wqDma",
        "colab": {
          "base_uri": "https://localhost:8080/"
        },
        "outputId": "054a66b5-cfd3-4ae8-8bd8-641b4c3ef10c"
      },
      "outputs": [
        {
          "output_type": "stream",
          "name": "stdout",
          "text": [
            "Enter the quantity of apple 3\n",
            "Enter the price of apple 1\n",
            "The cost for all 3 apple is 3.0\n",
            "\n",
            "Enter the quantity of orange 12\n",
            "Enter the price of orange 3\n",
            "The cost for all 12 orange is 36.0\n",
            "\n",
            "Enter the quantity of mango 10\n",
            "Enter the price of mango 10\n",
            "The cost for all 10 mango is 100.0\n",
            "\n",
            "The total cost is  139.0\n"
          ]
        }
      ],
      "source": [
        "Cart=[\"apple\",\"orange\",\"mango\"]\n",
        "total=0\n",
        "for item in Cart:\n",
        " quantity=int(input(f\"Enter the quantity of {item} \"))\n",
        " price=float(input(f\"Enter the price of {item} \"))\n",
        " cost=quantity*price\n",
        " print(f\"The cost for all {quantity} {item} is {cost}\")\n",
        " print(\"\")\n",
        " total=total+cost\n",
        "print(\"The total cost is \", total)"
      ]
    },
    {
      "cell_type": "markdown",
      "metadata": {
        "id": "31fXlmEQqgvW"
      },
      "source": [
        "# Ex 5 : Greeting"
      ]
    },
    {
      "cell_type": "markdown",
      "metadata": {
        "id": "zvnmj8MGrJIw"
      },
      "source": [
        "Write a program to greet the customer who provides the user name. Your program should ask the name of the customer and print \"Hello + customer name\""
      ]
    },
    {
      "cell_type": "code",
      "execution_count": 15,
      "metadata": {
        "id": "Z6ynxZMarIXh",
        "colab": {
          "base_uri": "https://localhost:8080/"
        },
        "outputId": "0f0665a0-c9ab-4114-f848-91feac7ae18c"
      },
      "outputs": [
        {
          "output_type": "stream",
          "name": "stdout",
          "text": [
            "Enter your username Phyo\n",
            "Hello Phyo\n"
          ]
        }
      ],
      "source": [
        "Username=input(\"Enter your username \")\n",
        "print(\"Hello \"+Username)"
      ]
    },
    {
      "cell_type": "markdown",
      "metadata": {
        "id": "FZBZlmDT9bIK"
      },
      "source": [
        "# Ex 6: Random Number\n",
        "Write a program that generates a random number, x, between 1 and 50, a random number y between 2 and 5, and computes x^y."
      ]
    },
    {
      "cell_type": "code",
      "execution_count": 16,
      "metadata": {
        "colab": {
          "base_uri": "https://localhost:8080/"
        },
        "id": "Yo0rN6kT9bIK",
        "outputId": "81c1b1d8-696a-46f7-df3d-28312d7fc651"
      },
      "outputs": [
        {
          "output_type": "stream",
          "name": "stdout",
          "text": [
            "A random number between 1 and 10:  10\n"
          ]
        }
      ],
      "source": [
        "from random import randint\n",
        "x = randint(1,10)\n",
        "print('A random number between 1 and 10: ', x)"
      ]
    },
    {
      "cell_type": "markdown",
      "metadata": {
        "id": "sBKksimg9bIK"
      },
      "source": [
        "# Ex 7: Greet many times.\n",
        "Write a program that generates a random number between 1 and 10 and prints your name that many times."
      ]
    },
    {
      "cell_type": "code",
      "execution_count": 18,
      "metadata": {
        "colab": {
          "base_uri": "https://localhost:8080/"
        },
        "id": "iZHyS7oh9bIK",
        "outputId": "ba2cae4a-1b16-456a-da59-f8242102435e"
      },
      "outputs": [
        {
          "output_type": "stream",
          "name": "stdout",
          "text": [
            "Phyo Myat Oo\n",
            "Phyo Myat Oo\n",
            "Phyo Myat Oo\n",
            "Phyo Myat Oo\n"
          ]
        }
      ],
      "source": [
        "from random import randint\n",
        "x = randint(1,10)\n",
        "for time in range(x):\n",
        "  print(\"Phyo Myat Oo\")\n"
      ]
    },
    {
      "cell_type": "markdown",
      "metadata": {
        "id": "-1O5n-kJ9bIL"
      },
      "source": [
        "# Ex 8: Computing.\n",
        "Write a program that asks the user to enter two numbers, x and y, and computes |x-y|/(x+y)."
      ]
    },
    {
      "cell_type": "code",
      "execution_count": 22,
      "metadata": {
        "colab": {
          "base_uri": "https://localhost:8080/"
        },
        "id": "MwRQMaJC9bIL",
        "outputId": "df7cf887-9e65-4d6f-95e0-8931d0c577d3"
      },
      "outputs": [
        {
          "output_type": "stream",
          "name": "stdout",
          "text": [
            "Input x 3\n",
            "Input y 10\n",
            "-7\n",
            "7\n",
            "0.5384615384615384\n"
          ]
        }
      ],
      "source": [
        "x=int(input(\"Input x \"))\n",
        "y=int(input(\"Input y \"))\n",
        "\n",
        "numerator=x-y\n",
        "denominator=x+y\n",
        "#print(numerator)\n",
        "if numerator < 0:\n",
        "  numerator=-numerator\n",
        "#print(numerator)\n",
        "output=numerator/(x+y)\n",
        "print(output)"
      ]
    },
    {
      "cell_type": "markdown",
      "metadata": {
        "id": "3pCTrryO9bIL"
      },
      "source": [
        "# Ex 9: Computing\n",
        "\n",
        "Write a program that asks the user for a number of seconds and prints out how many minutes and seconds that is. For instance, 200 seconds is 3 minutes and 20 seconds."
      ]
    },
    {
      "cell_type": "code",
      "execution_count": 2,
      "metadata": {
        "colab": {
          "base_uri": "https://localhost:8080/"
        },
        "id": "yTH18gdX9bIL",
        "outputId": "18ecad1a-b08c-4bd7-c626-ad4ea25820dc"
      },
      "outputs": [
        {
          "output_type": "stream",
          "name": "stdout",
          "text": [
            "Enter a number of seconds 200\n",
            "It is 3 minutes and 20 seconds \n"
          ]
        }
      ],
      "source": [
        "seconds=int(input(\"Enter a number of seconds \"))\n",
        "\n",
        "minutes=seconds//60\n",
        "remain_seconds=seconds%60\n",
        "print(f\"It is {minutes} minutes and {remain_seconds} seconds \")"
      ]
    },
    {
      "cell_type": "markdown",
      "metadata": {
        "id": "p94I83mB9bIL"
      },
      "source": [
        "# Ex 10: Using Math Module\n",
        "\n",
        "Write a program that asks the user for a number and then prints out the sine, cosine, and tangent of that number."
      ]
    },
    {
      "cell_type": "code",
      "execution_count": 6,
      "metadata": {
        "colab": {
          "base_uri": "https://localhost:8080/"
        },
        "id": "6vglADDe9bIL",
        "outputId": "7fb7f6af-5fe4-4054-9004-c91787723e36"
      },
      "outputs": [
        {
          "output_type": "stream",
          "name": "stdout",
          "text": [
            "Enter a number:50\n",
            "-0.26237485370392877\n",
            "0.9649660284921133\n",
            "-0.27190061199763077\n"
          ]
        }
      ],
      "source": [
        "import math\n",
        "num = float(input(\"Enter a number:\"))\n",
        "sine_value = math.sin(num)\n",
        "print(sine_value)\n",
        "cosine_value=math.cos(num)\n",
        "print(cosine_value)\n",
        "tangent_value=math.tan(num)\n",
        "print(tangent_value)\n"
      ]
    },
    {
      "cell_type": "code",
      "source": [],
      "metadata": {
        "id": "sRhJ0-7QDt6Q"
      },
      "execution_count": 3,
      "outputs": []
    }
  ],
  "metadata": {
    "colab": {
      "name": "Ex1_Python.ipynb",
      "provenance": [],
      "include_colab_link": true
    },
    "kernelspec": {
      "display_name": "Python 3",
      "language": "python",
      "name": "python3"
    },
    "language_info": {
      "codemirror_mode": {
        "name": "ipython",
        "version": 3
      },
      "file_extension": ".py",
      "mimetype": "text/x-python",
      "name": "python",
      "nbconvert_exporter": "python",
      "pygments_lexer": "ipython3",
      "version": "3.12.1"
    }
  },
  "nbformat": 4,
  "nbformat_minor": 0
}